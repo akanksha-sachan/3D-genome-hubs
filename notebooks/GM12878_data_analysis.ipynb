{
 "cells": [
  {
   "cell_type": "code",
   "execution_count": 1,
   "metadata": {},
   "outputs": [
    {
     "name": "stdout",
     "output_type": "stream",
     "text": [
      "testing config class\n",
      "<configs.config_local.Config object at 0x106e76100>\n",
      "testing 2d contacts preprocessing classes\n",
      "HiC file loaded\n",
      "<preprocessing.hic_data_loader.HiCQuery object at 0x106e9f790>\n"
     ]
    }
   ],
   "source": [
    "# test_imports in this cell, restart kernel whenever edits to modules are made\n",
    "\n",
    "import cooltools\n",
    "import cooler\n",
    "import sys\n",
    "import os\n",
    "from matplotlib.colors import LinearSegmentedColormap\n",
    "from matplotlib import pyplot as plt\n",
    "from matplotlib import gridspec\n",
    "import numpy as np\n",
    "import seaborn as sns\n",
    "\n",
    "\n",
    "\n",
    "# Append the src directory to the path\n",
    "current_dir = os.getcwd()\n",
    "src_dir = os.path.abspath(os.path.join(current_dir, '..', 'src'))\n",
    "if src_dir not in sys.path:\n",
    "    sys.path.append(src_dir)\n",
    "\n",
    "#import config based on which machine the jupyter notebook is running on\n",
    "from configs.config_local import *\n",
    "from preprocessing import *\n",
    "from module_detection import *\n",
    "from utils import *\n",
    "\n",
    "def test_imports():\n",
    "    print(\"testing config class\")\n",
    "    config = Config()\n",
    "    print(config)\n",
    "\n",
    "    print(\"testing 2d contacts preprocessing classes\")\n",
    "    query = HiCQuery(config, 'chr1', 1000000, '1Mb') #needs config, chrom and res/res0 for instantiation\n",
    "    print(query)\n",
    "\n",
    "    \n",
    "    #other prints for imported classes\n",
    "\n",
    "test_imports()"
   ]
  },
  {
   "cell_type": "code",
   "execution_count": 2,
   "metadata": {},
   "outputs": [
    {
     "name": "stdout",
     "output_type": "stream",
     "text": [
      "HiC file loaded\n"
     ]
    }
   ],
   "source": [
    "## check how much a/b from cooltools bigwig aligns with a/b from my code visually ##\n",
    "\n",
    "#initialising parameters for single chromosome analysis\n",
    "\n",
    "config = Config()\n",
    "chrom = config.genomic_params.chromosomes[0]\n",
    "current_res = config.genomic_params.resolutions[0]  # 1Mb for OE part\n",
    "current_res_str = config.genomic_params.res_strs[0]  # 1Mb for OE part\n",
    "query = HiCQuery(config, chrom, current_res, current_res_str)"
   ]
  },
  {
   "cell_type": "code",
   "execution_count": null,
   "metadata": {},
   "outputs": [],
   "source": [
    "def plot_2dhic_1dtrack_map(dense_matrix, signal, vmin, vmax, cmap):\n",
    "  d2 = dense_matrix # np.log(dense_matrix)\n",
    "  d2[np.isnan(d2)] = 0\n",
    "  d2[np.isinf(d2)] = 0\n",
    "  fig = plt.figure()\n",
    "  fig.set_figheight(12)\n",
    "  fig.set_figwidth(8)\n",
    "  spec = gridspec.GridSpec(ncols=1, nrows=2,\n",
    "                         width_ratios=[1], wspace=1,\n",
    "                         hspace=.1, height_ratios=[16, 30])\n",
    "  ax0 = fig.add_subplot(spec[0])\n",
    "  ax0.plot(np.arange(len(signal)), signal)\n",
    "  ax1 = fig.add_subplot(spec[1])\n",
    "  ax1.matshow(d2, cmap=cmap, vmin=vmin, vmax=vmax)\n",
    "  plt.show()\n",
    "\n",
    "# params for OE matrix visualisation\n",
    "threshold = 0\n",
    "start = 0\n",
    "end = 72000000\n",
    "\n",
    "# Custom colormap\n",
    "REDMAP = LinearSegmentedColormap.from_list(\"bright_red\", [(1, 1, 1), (1, 0, 0)])\n",
    "\n",
    "## single chr visualisation ##\n",
    "oe_numpy_thresholded = query.oe_intra_numpy(start, end, threshold)\n",
    "\n",
    "# params for AB score visualisation along with OE matrix\n",
    "ab_geo_bw = pyBigWig.open(config.paths.compartments_infile)\n",
    "nm_bins = oe_numpy_thresholded.shape[0]\n",
    "signal = ab_geo_bw.stats(\n",
    "                chrom, start, end, type=\"mean\", nBins=nm_bins\n",
    "            )\n",
    "#filter none values\n",
    "filtered_signal = [0 if x is None else x for x in signal]\n",
    "plot_2dhic_1dtrack_map(oe_numpy_thresholded, filtered_signal, 0, 1, REDMAP)"
   ]
  }
 ],
 "metadata": {
  "kernelspec": {
   "display_name": "hubs",
   "language": "python",
   "name": "python3"
  },
  "language_info": {
   "codemirror_mode": {
    "name": "ipython",
    "version": 3
   },
   "file_extension": ".py",
   "mimetype": "text/x-python",
   "name": "python",
   "nbconvert_exporter": "python",
   "pygments_lexer": "ipython3",
   "version": "3.9.18"
  }
 },
 "nbformat": 4,
 "nbformat_minor": 2
}
