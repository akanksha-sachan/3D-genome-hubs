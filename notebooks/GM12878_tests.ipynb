{
 "cells": [
  {
   "cell_type": "code",
   "execution_count": 1,
   "metadata": {},
   "outputs": [
    {
     "name": "stdout",
     "output_type": "stream",
     "text": [
      "testing config class\n",
      "<configs.config_local.Config object at 0x105796670>\n",
      "testing 2d contacts preprocessing classes\n",
      "HiC file loaded\n",
      "<preprocessing.hic_graph.HiCQuery object at 0x105708ac0>\n"
     ]
    }
   ],
   "source": [
    "# test_imports in this cell, restart kernel whenever edits to modules are made\n",
    "\n",
    "import sys\n",
    "import os\n",
    "\n",
    "# Append the src directory to the path\n",
    "current_dir = os.getcwd()\n",
    "src_dir = os.path.abspath(os.path.join(current_dir, '..', 'src'))\n",
    "if src_dir not in sys.path:\n",
    "    sys.path.append(src_dir)\n",
    "\n",
    "#import config based on which machine the jupyter notebook is running on\n",
    "from configs.config_local import *\n",
    "from preprocessing import *\n",
    "from hub_calls import *\n",
    "from postprocessing import *\n",
    "from utils import *\n",
    "\n",
    "def test_imports():\n",
    "    print(\"testing config class\")\n",
    "    config = Config()\n",
    "    print(config)\n",
    "\n",
    "    print(\"testing 2d contacts preprocessing classes\")\n",
    "    query = HiCQuery(config, 'chr1', 1000000, '1Mb') #needs config, chrom and res/res0 for instantiation\n",
    "    print(query)\n",
    "\n",
    "    \n",
    "    #other prints for imported classes\n",
    "\n",
    "test_imports()"
   ]
  },
  {
   "cell_type": "markdown",
   "metadata": {},
   "source": [
    "OE part of the pipeline"
   ]
  },
  {
   "cell_type": "code",
   "execution_count": null,
   "metadata": {},
   "outputs": [],
   "source": [
    "## vis oe matrix for thresholding ##"
   ]
  },
  {
   "cell_type": "code",
   "execution_count": null,
   "metadata": {},
   "outputs": [],
   "source": [
    "## plot ab score and oe matrix ##"
   ]
  },
  {
   "cell_type": "code",
   "execution_count": null,
   "metadata": {},
   "outputs": [],
   "source": [
    "## plot correlation between ab scores ##"
   ]
  },
  {
   "cell_type": "code",
   "execution_count": null,
   "metadata": {},
   "outputs": [],
   "source": [
    "## plot confusion matrix between cluster labels and ab scores ##"
   ]
  },
  {
   "cell_type": "code",
   "execution_count": null,
   "metadata": {},
   "outputs": [],
   "source": [
    "## plot # of gene TSS in each cluster ##"
   ]
  },
  {
   "cell_type": "code",
   "execution_count": null,
   "metadata": {},
   "outputs": [],
   "source": [
    "## plot histogram of nodeset partitions ## (cluster-size)"
   ]
  }
 ],
 "metadata": {
  "kernelspec": {
   "display_name": "hubs",
   "language": "python",
   "name": "python3"
  },
  "language_info": {
   "codemirror_mode": {
    "name": "ipython",
    "version": 3
   },
   "file_extension": ".py",
   "mimetype": "text/x-python",
   "name": "python",
   "nbconvert_exporter": "python",
   "pygments_lexer": "ipython3",
   "version": "3.9.18"
  }
 },
 "nbformat": 4,
 "nbformat_minor": 2
}
