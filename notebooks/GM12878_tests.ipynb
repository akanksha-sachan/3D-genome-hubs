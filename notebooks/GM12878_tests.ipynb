{
 "cells": [
  {
   "cell_type": "code",
   "execution_count": 1,
   "metadata": {},
   "outputs": [
    {
     "name": "stdout",
     "output_type": "stream",
     "text": [
      "testing config class\n",
      "<configs.config_local.Config object at 0x107d1e190>\n",
      "testing 2d contacts preprocessing classes\n",
      "HiC file loaded\n",
      "<preprocessing._2Dcontacts_processing.HiCQuery object at 0x107d80760>\n",
      "testing helper function imports\n",
      "<utils.ValidLoop object at 0x107d80f40>\n"
     ]
    }
   ],
   "source": [
    "# test_imports in this cell, restart kernel whenever edits to modules are made\n",
    "\n",
    "import sys\n",
    "import os\n",
    "\n",
    "# Append the src directory to the path\n",
    "current_dir = os.getcwd()\n",
    "src_dir = os.path.abspath(os.path.join(current_dir, '..', 'src'))\n",
    "if src_dir not in sys.path:\n",
    "    sys.path.append(src_dir)\n",
    "\n",
    "#import config based on which machine the jupyter notebook is running on\n",
    "from configs.config_local import *\n",
    "from preprocessing import *\n",
    "from hub_calls import *\n",
    "from postprocessing import *\n",
    "from utils import *\n",
    "\n",
    "def test_imports():\n",
    "    print(\"testing config class\")\n",
    "    config = Config()\n",
    "    print(config)\n",
    "\n",
    "    print(\"testing 2d contacts preprocessing classes\")\n",
    "    query = HiCQuery(config)\n",
    "    print(query)\n",
    "\n",
    "    print(\"testing helper function imports\")\n",
    "    out = ValidLoop(config, 10000)\n",
    "    print(out)\n",
    "    \n",
    "    #other prints for imported classes\n",
    "\n",
    "test_imports()"
   ]
  },
  {
   "cell_type": "code",
   "execution_count": 4,
   "metadata": {},
   "outputs": [
    {
     "name": "stdout",
     "output_type": "stream",
     "text": [
      "HiC file loaded\n",
      "{'version': '8', 'master_index': '3126283484', 'genome_id': '/var/lib/cwl/stga3f80174-ba8e-4d25-8491-09d0707bbd92/4DNFI823LSII.chrom.sizes', 'attributes': {b's': b'o'}}\n"
     ]
    }
   ],
   "source": [
    "####### Loading Config object #######\n",
    "\n",
    "config = Config()\n",
    "query = HiCQuery(config)\n",
    "# check if hic file is readable\n",
    "inform = query.read_hic_header(config.paths.hic_file)\n",
    "print(inform)\n",
    "current_chrom = config.genomic_params.chromosomes[0]\n",
    "current_res = config.genomic_params.resolutions[0]\n",
    "currest_res0 = config.genomic_params.res_strs[0]"
   ]
  },
  {
   "cell_type": "code",
   "execution_count": 5,
   "metadata": {},
   "outputs": [
    {
     "name": "stdout",
     "output_type": "stream",
     "text": [
      "Filename: /Users/Akanksha/MaGroup/Genomic Hubs/3D-genome-hubs/src/preprocessing/_2Dcontacts_processing.py\n",
      "\n",
      "Line #    Mem usage    Increment  Occurrences   Line Contents\n",
      "=============================================================\n",
      "    94   1677.5 MiB   1677.5 MiB           1       @profile\n",
      "    95                                             def oe_intra(self, chrom, res):\n",
      "    96                                                 \"\"\"\n",
      "    97                                                 returns csr sparse matrix of contact records for one chromosome\n",
      "    98                                                 straw object : .binX [0] .binY [1] .counts [2] as attributes\n",
      "    99                                                 \"\"\"\n",
      "   100   1677.5 MiB      0.0 MiB           1           chrom = chrom[3:]\n",
      "   101   1677.5 MiB      0.0 MiB           1           res = int(res)\n",
      "   102   2554.6 MiB    877.2 MiB           2           oe_list = hicstraw.straw(\n",
      "   103   1677.5 MiB      0.0 MiB           1               \"oe\", self.hic_norm, self.hic_file, chrom, chrom, \"BP\", res\n",
      "   104                                                 )\n",
      "   105   2554.6 MiB      0.0 MiB           1           return oe_list\n",
      "\n",
      "\n",
      "[<hicstraw.contactRecord object at 0x17b1cc8f0>, <hicstraw.contactRecord object at 0x17b1ccaf0>, <hicstraw.contactRecord object at 0x17b1ccb30>, <hicstraw.contactRecord object at 0x17b1e4030>, <hicstraw.contactRecord object at 0x17b1e4a30>, <hicstraw.contactRecord object at 0x17b1e48f0>, <hicstraw.contactRecord object at 0x17b1e4d70>, <hicstraw.contactRecord object at 0x17b1e4730>, <hicstraw.contactRecord object at 0x17b1e4170>, <hicstraw.contactRecord object at 0x17b1e4930>]\n",
      "Filename: /Users/Akanksha/MaGroup/Genomic Hubs/3D-genome-hubs/src/preprocessing/_2Dcontacts_processing.py\n",
      "\n",
      "Line #    Mem usage    Increment  Occurrences   Line Contents\n",
      "=============================================================\n",
      "   107   2554.7 MiB   2554.7 MiB           1       @profile\n",
      "   108                                             def straw_to_csr(self, straw_obj, res):\n",
      "   109                                                 \"\"\"\n",
      "   110                                                 Convert straw object to csr matrix\n",
      "   111                                                 \"\"\"\n",
      "   112                                                 # convert to numpy\n",
      "   113   3315.1 MiB -469659188.8 MiB     8967280           straw_array = np.array([(i.binX, i.binY, i.counts) for i in straw_obj],\n",
      "   114   3314.9 MiB     -0.2 MiB           1                                  dtype=[('binX', np.int32), ('binY', np.int32), ('counts', np.float32)])\n",
      "   115                                         \n",
      "   116                                                 # use vectorized ops\n",
      "   117   2550.0 MiB   -765.1 MiB           1           row = straw_array['binX'] // res\n",
      "   118   2584.2 MiB     34.2 MiB           1           col = straw_array['binY'] // res\n",
      "   119   2584.2 MiB      0.0 MiB           1           value = straw_array['counts']\n",
      "   120   2584.3 MiB      0.1 MiB           1           dimension = max(row.max(), col.max()) + 1\n",
      "   121   2756.5 MiB    172.2 MiB           1           csr_mat = csr_matrix((value, (row, col)), shape=(dimension, dimension), dtype=float)\n",
      "   122   2756.5 MiB      0.0 MiB           1           return csr_mat\n",
      "\n",
      "\n",
      "[29847.69921875  2004.41088867 33015.9140625    177.51248169\n",
      "   315.31436157   234.38864136  1128.03820801  1217.96691895\n",
      "  1678.21337891  1203.65124512]\n",
      "Sparse matrix saved at /Users/Akanksha/MaGroup/Genomic Hubs/workflow/tmp/GM12878/sparse_matrix_chr1_10000.npz\n"
     ]
    }
   ],
   "source": [
    "######## Query o/e from .hic as csr matrix ########\n",
    "\n",
    "contacts_oe = query.oe_intra(current_chrom, current_res)\n",
    "print(contacts_oe[0:10])\n",
    "sparse_matrix_oe = query.straw_to_csr(contacts_oe, current_res)\n",
    "print(sparse_matrix_oe.data[0:10])\n",
    "\n",
    "#save for quick access later\n",
    "sparse_matrix_path = os.path.join(config.paths.temp_dir, f\"/{currest_res0}/sparse_matrix_{current_chrom}.npz\")\n",
    "np.savez_compressed(sparse_matrix_path, data=sparse_matrix_oe.data, indices=sparse_matrix_oe.indices, indptr=sparse_matrix_oe.indptr, shape=sparse_matrix_oe.shape)\n",
    "print(f\"Sparse matrix saved at {sparse_matrix_path}\")"
   ]
  },
  {
   "cell_type": "markdown",
   "metadata": {},
   "source": [
    "- [ ]  ######### Global contacts; loose clusters/compartments ########\n",
    "For OE: Call A/B compartments at 1Mb (GT only available for 4DN not ENCODE)\n",
    "    - [ ]  Call a/b comps from csr matrix, save as bigwig as bin_annotations\n",
    "    - [ ]  Reliability of a/b score:\n",
    "        - [ ]  viz oe for a specific region from hic and bigwig track for alignment of a/b calls\n",
    "        - [ ]  plot correlation between GT a/b scores and called a/b scores\n",
    "    - [ ]  Creating graph object:\n",
    "        - [ ]  1. threshold O/E for node-set creation and visualise the effect of thresholding on the matrix\n",
    "        - [ ]  2. save node-sets for three different thresholds, each o/e edge weight is 1\n",
    "    - [ ]  Spectral clustering:\n",
    "        - [ ]  1. save clusters as sparse matrix for each threshold, viz clusters and color by a/b score of each bin\n",
    "    - [ ]  Reliability of clustering:\n",
    "        - [ ]  plot confusion matrix between clustered nodes and GT a/b scores\n",
    "    - [ ]  ### then parallelize the above steps for all chromosomes ###"
   ]
  },
  {
   "cell_type": "code",
   "execution_count": null,
   "metadata": {},
   "outputs": [],
   "source": [
    "#### Global interactions {Large scale: 1Mb-500Kb resolution} ####\n"
   ]
  }
 ],
 "metadata": {
  "kernelspec": {
   "display_name": "hubs",
   "language": "python",
   "name": "python3"
  },
  "language_info": {
   "codemirror_mode": {
    "name": "ipython",
    "version": 3
   },
   "file_extension": ".py",
   "mimetype": "text/x-python",
   "name": "python",
   "nbconvert_exporter": "python",
   "pygments_lexer": "ipython3",
   "version": "3.9.18"
  }
 },
 "nbformat": 4,
 "nbformat_minor": 2
}
