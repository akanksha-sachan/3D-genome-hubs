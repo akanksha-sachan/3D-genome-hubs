{
 "cells": [
  {
   "cell_type": "code",
   "execution_count": 4,
   "metadata": {},
   "outputs": [
    {
     "name": "stdout",
     "output_type": "stream",
     "text": [
      "testing config class\n",
      "<configs.config_local.Config object at 0x16a85bee0>\n",
      "testing 2d contacts preprocessing classes\n",
      "HiC file loaded\n",
      "<preprocessing.hic_data_loader.HiCQuery object at 0x174eb1760>\n"
     ]
    }
   ],
   "source": [
    "# test_imports in this cell, restart kernel whenever edits to modules are made\n",
    "\n",
    "import cooltools\n",
    "import cooler\n",
    "import sys\n",
    "import os\n",
    "from matplotlib.colors import LinearSegmentedColormap\n",
    "from matplotlib import pyplot as plt\n",
    "from matplotlib import gridspec\n",
    "import numpy as np\n",
    "import seaborn as sns\n",
    "\n",
    "\n",
    "\n",
    "# Append the src directory to the path\n",
    "current_dir = os.getcwd()\n",
    "src_dir = os.path.abspath(os.path.join(current_dir, '..', 'src'))\n",
    "if src_dir not in sys.path:\n",
    "    sys.path.append(src_dir)\n",
    "\n",
    "#import config based on which machine the jupyter notebook is running on\n",
    "from configs.config_local import *\n",
    "from preprocessing import *\n",
    "from module_detection import *\n",
    "from utils import *\n",
    "\n",
    "def test_imports():\n",
    "    print(\"testing config class\")\n",
    "    config = Config()\n",
    "    print(config)\n",
    "\n",
    "    print(\"testing 2d contacts preprocessing classes\")\n",
    "    query = HiCQuery(config, 'chr1', 1000000, '1Mb') #needs config, chrom and res/res0 for instantiation\n",
    "    print(query)\n",
    "\n",
    "    \n",
    "    #other prints for imported classes\n",
    "\n",
    "test_imports()"
   ]
  },
  {
   "cell_type": "code",
   "execution_count": null,
   "metadata": {},
   "outputs": [],
   "source": [
    "## check how much a/b from cooltools bigwig aligns with a/b from my code visually ##\n",
    "#initialising parameters for single chromosome analysis\n",
    "\n",
    "config = Config()\n",
    "chrom = config.genomic_params.chromosomes[0]\n",
    "current_res = config.genomic_params.resolutions[0]  # 1Mb for OE part\n",
    "current_res_str = config.genomic_params.res_strs[0]  # 1Mb for OE part\n",
    "query = HiCQuery(config, chrom, current_res, current_res_str)"
   ]
  }
 ],
 "metadata": {
  "kernelspec": {
   "display_name": "hubs",
   "language": "python",
   "name": "python3"
  },
  "language_info": {
   "codemirror_mode": {
    "name": "ipython",
    "version": 3
   },
   "file_extension": ".py",
   "mimetype": "text/x-python",
   "name": "python",
   "nbconvert_exporter": "python",
   "pygments_lexer": "ipython3",
   "version": "3.9.18"
  }
 },
 "nbformat": 4,
 "nbformat_minor": 2
}
