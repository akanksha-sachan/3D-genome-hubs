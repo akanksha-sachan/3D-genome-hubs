{
 "cells": [
  {
   "cell_type": "code",
   "execution_count": 1,
   "metadata": {},
   "outputs": [
    {
     "name": "stdout",
     "output_type": "stream",
     "text": [
      "testing config class\n",
      "<configs.config1.Config object at 0x107a32f70>\n",
      "testing 2d contacts preprocessing classes\n",
      "HiC file loaded\n",
      "<preprocessing._2Dcontacts_processing.HiCQuery object at 0x107a32a30>\n",
      "testing helper function imports\n",
      "<utils.ValidLoop object at 0x11fefb4c0>\n"
     ]
    }
   ],
   "source": [
    "# test_imports in this cell, restart kernel whenever edits to modules are made\n",
    "\n",
    "import sys\n",
    "import os\n",
    "\n",
    "# Append the src directory to the path\n",
    "current_dir = os.getcwd()\n",
    "src_dir = os.path.abspath(os.path.join(current_dir, '..', 'src'))\n",
    "if src_dir not in sys.path:\n",
    "    sys.path.append(src_dir)\n",
    "\n",
    "#import things\n",
    "from configs import Config\n",
    "from preprocessing import HiCQuery\n",
    "from utils import ValidLoop\n",
    "\n",
    "def test_imports():\n",
    "    print(\"testing config class\")\n",
    "    config = Config()\n",
    "    print(config)\n",
    "\n",
    "    print(\"testing 2d contacts preprocessing classes\")\n",
    "    query = HiCQuery(config)\n",
    "    print(query)\n",
    "\n",
    "    print(\"testing helper function imports\")\n",
    "    out = ValidLoop(config, 10000)\n",
    "    print(out)\n",
    "    \n",
    "    #other prints for imported classes\n",
    "\n",
    "test_imports()"
   ]
  },
  {
   "cell_type": "code",
   "execution_count": null,
   "metadata": {},
   "outputs": [],
   "source": [
    "## create config to test gm12878 hubs"
   ]
  }
 ],
 "metadata": {
  "kernelspec": {
   "display_name": "hubs",
   "language": "python",
   "name": "python3"
  },
  "language_info": {
   "codemirror_mode": {
    "name": "ipython",
    "version": 3
   },
   "file_extension": ".py",
   "mimetype": "text/x-python",
   "name": "python",
   "nbconvert_exporter": "python",
   "pygments_lexer": "ipython3",
   "version": "3.9.18"
  }
 },
 "nbformat": 4,
 "nbformat_minor": 2
}
