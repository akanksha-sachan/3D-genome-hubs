{
 "cells": [
  {
   "cell_type": "code",
   "execution_count": 1,
   "metadata": {},
   "outputs": [
    {
     "name": "stdout",
     "output_type": "stream",
     "text": [
      "testing config class\n",
      "<configs.config_local.Config object at 0x107d1e190>\n",
      "testing 2d contacts preprocessing classes\n",
      "HiC file loaded\n",
      "<preprocessing._2Dcontacts_processing.HiCQuery object at 0x107d80760>\n",
      "testing helper function imports\n",
      "<utils.ValidLoop object at 0x107d80f40>\n"
     ]
    }
   ],
   "source": [
    "# test_imports in this cell, restart kernel whenever edits to modules are made\n",
    "\n",
    "import sys\n",
    "import os\n",
    "\n",
    "# Append the src directory to the path\n",
    "current_dir = os.getcwd()\n",
    "src_dir = os.path.abspath(os.path.join(current_dir, '..', 'src'))\n",
    "if src_dir not in sys.path:\n",
    "    sys.path.append(src_dir)\n",
    "\n",
    "#import config based on which machine the jupyter notebook is running on\n",
    "from configs.config_local import *\n",
    "from preprocessing import *\n",
    "from hub_calls import *\n",
    "from postprocessing import *\n",
    "from utils import *\n",
    "\n",
    "def test_imports():\n",
    "    print(\"testing config class\")\n",
    "    config = Config()\n",
    "    print(config)\n",
    "\n",
    "    print(\"testing 2d contacts preprocessing classes\")\n",
    "    query = HiCQuery(config)\n",
    "    print(query)\n",
    "\n",
    "    print(\"testing helper function imports\")\n",
    "    out = ValidLoop(config, 10000)\n",
    "    print(out)\n",
    "    \n",
    "    #other prints for imported classes\n",
    "\n",
    "test_imports()"
   ]
  },
  {
   "cell_type": "code",
   "execution_count": 4,
   "metadata": {},
   "outputs": [
    {
     "name": "stdout",
     "output_type": "stream",
     "text": [
      "HiC file loaded\n",
      "{'version': '8', 'master_index': '3126283484', 'genome_id': '/var/lib/cwl/stga3f80174-ba8e-4d25-8491-09d0707bbd92/4DNFI823LSII.chrom.sizes', 'attributes': {b's': b'o'}}\n"
     ]
    }
   ],
   "source": [
    "####### Loading Config object #######\n",
    "\n",
    "config = Config()\n",
    "query = HiCQuery(config)\n",
    "\n",
    "# check if hic file is readable\n",
    "inform = query.read_hic_header(config.paths.hic_file)\n",
    "print(inform)\n",
    "\n",
    "#set parameters\n",
    "current_chrom = config.genomic_params.chromosomes[0]\n",
    "current_res = config.genomic_params.resolutions[0]\n",
    "currest_res0 = config.genomic_params.res_strs[0]"
   ]
  },
  {
   "cell_type": "code",
   "execution_count": null,
   "metadata": {},
   "outputs": [],
   "source": [
    "####### Thresholding the oe matrix for edgelist storage #######\n",
    "hic = query.hic #create hic straw object\n"
   ]
  }
 ],
 "metadata": {
  "kernelspec": {
   "display_name": "hubs",
   "language": "python",
   "name": "python3"
  },
  "language_info": {
   "codemirror_mode": {
    "name": "ipython",
    "version": 3
   },
   "file_extension": ".py",
   "mimetype": "text/x-python",
   "name": "python",
   "nbconvert_exporter": "python",
   "pygments_lexer": "ipython3",
   "version": "3.9.18"
  }
 },
 "nbformat": 4,
 "nbformat_minor": 2
}
